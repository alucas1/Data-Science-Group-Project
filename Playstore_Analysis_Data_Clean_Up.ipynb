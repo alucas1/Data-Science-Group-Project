{
 "cells": [
  {
   "cell_type": "markdown",
   "id": "bfd7850e",
   "metadata": {},
   "source": [
    "<h3>Google Play Store App Purchasing Trends</h3>\n",
    "\n",
    "<p><b>Authors: </b><br>\n",
    "Bryan Aguiar,\n",
    "Alberto Lucas,\n",
    "Emerald Kunkle</p>\n",
    "\n",
    "<p><b>Introduction:</b><br>\n",
    "In our final project, we selected the data set Google Play Store Apps from Lavanya on Kaggle. Our goal is to compare the amount of people buying an app with a high rating, to infer if higher rated apps are correlated with a higher likelihood of purchase. The results would be useful for consumers to know when considering an app purchase, and may save money if a user is vesting more of their willingness to purchase on the ratings from others rather than the personal utility they might find with the prospective app.</p>\n",
    "\n",
    "<p><b>Description of Data Set:</b><br>\n",
    "Our selected data set is a compiled list of Google Play Store apps and the apps’ statistics in 2019. The data is purely quantitative, consisting of values such as application name, category, rating, number of reviews, size of the application, number of installs, whether or not the app is free, the price of the app (when it is not free), the content rating, and the genres. It is notable that all these values came from the time of the data collection, and may not accurately reflect current values found on the Google Play Store today.</p>\n",
    "\n",
    "<p><b>Predictions:</b><br>\n",
    "Our prediction is that there will indeed be a correlation between highly rated apps and the amount of purchases it garnered. This is due to the fact that many people often seek the advice of others when debating whether to make a purchase, and will often use this advice to estimate the reputation of an app developer they are not familiar with.</p>\n",
    "\n",
    "<p><b>Features used as predictors:</b><br>\n",
    "The most important data values we will be using in our evaluations is the Installs (number of user downloads/installs for the app), the Type (paid or free), and Rating (as when scraped). The predictors we anticipate is that an app of type “Paid” will have a higher rate of Installs correlated with a higher number of Rating.</p>"
   ]
  },
  {
   "cell_type": "code",
   "execution_count": 23,
   "outputs": [],
   "source": [
    "import numpy as np\n",
    "import pandas as pd\n",
    "import matplotlib.pyplot as plt\n",
    "from matplotlib import rcParams\n",
    "import seaborn as sns\n",
    "from sklearn.model_selection import train_test_split\n",
    "from sklearn.preprocessing import StandardScaler\n",
    "from sklearn.neighbors import KNeighborsRegressor"
   ],
   "metadata": {
    "collapsed": false,
    "pycharm": {
     "name": "#%%\n"
    }
   }
  },
  {
   "cell_type": "code",
   "execution_count": 24,
   "outputs": [],
   "source": [
    "# allow output to span multiple output lines in the console\n",
    "pd.set_option('display.max_columns', 500)\n",
    "\n",
    "# switch to seaborn default stylistic parameters\n",
    "sns.set()\n",
    "sns.set_context('notebook')\n",
    "\n",
    "# change default plot size\n",
    "rcParams['figure.figsize'] = 9,7"
   ],
   "metadata": {
    "collapsed": false,
    "pycharm": {
     "name": "#%%\n"
    }
   }
  },
  {
   "cell_type": "markdown",
   "id": "0042d911",
   "metadata": {},
   "source": [
    "<br>\n",
    "<h3><u> Data Set - googleplaystore.csv </u></h3>\n",
    "<p><b>Source:</b> \n",
    "<a href=\"https://www.kaggle.com/lava18/google-play-store-apps\">https://www.kaggle.com/lava18/google-play-store-apps </a></p>\n",
    "<p><b>Description:</b> Contains information related to applications offered on the Android Playstore marketplace.</p>"
   ]
  },
  {
   "cell_type": "code",
   "execution_count": 38,
   "id": "2207df70",
   "metadata": {},
   "outputs": [],
   "source": [
    "# data file must be downloaded from source and pathname below should reference that file\n",
    "df = pd.read_csv('googleplaystore.csv')"
   ]
  },
  {
   "cell_type": "code",
   "execution_count": 63,
   "id": "7b57822b",
   "metadata": {},
   "outputs": [
    {
     "name": "stdout",
     "output_type": "stream",
     "text": [
      "<class 'pandas.core.frame.DataFrame'>\n",
      "RangeIndex: 9360 entries, 0 to 9359\n",
      "Data columns (total 13 columns):\n",
      " #   Column          Non-Null Count  Dtype  \n",
      "---  ------          --------------  -----  \n",
      " 0   App             9360 non-null   object \n",
      " 1   Category        9360 non-null   object \n",
      " 2   Rating          9360 non-null   float64\n",
      " 3   Reviews         9360 non-null   int32  \n",
      " 4   Size            9360 non-null   object \n",
      " 5   Installs        9360 non-null   object \n",
      " 6   Type            9360 non-null   object \n",
      " 7   Price           9360 non-null   float64\n",
      " 8   Content Rating  9360 non-null   object \n",
      " 9   Genres          9360 non-null   object \n",
      " 10  Last Updated    9360 non-null   object \n",
      " 11  Current Ver     9360 non-null   object \n",
      " 12  Android Ver     9360 non-null   object \n",
      "dtypes: float64(2), int32(1), object(10)\n",
      "memory usage: 914.2+ KB\n"
     ]
    }
   ],
   "source": [
    "# All columns/features in the data set\n",
    "df.info()"
   ]
  },
  {
   "cell_type": "code",
   "execution_count": 27,
   "id": "77492073",
   "metadata": {},
   "outputs": [
    {
     "data": {
      "text/plain": "                                                 App        Category  Rating  \\\n0     Photo Editor & Candy Camera & Grid & ScrapBook  ART_AND_DESIGN     4.1   \n1                                Coloring book moana  ART_AND_DESIGN     3.9   \n2  U Launcher Lite – FREE Live Cool Themes, Hide ...  ART_AND_DESIGN     4.7   \n3                              Sketch - Draw & Paint  ART_AND_DESIGN     4.5   \n4              Pixel Draw - Number Art Coloring Book  ART_AND_DESIGN     4.3   \n\n  Reviews  Size     Installs  Type Price Content Rating  \\\n0     159   19M      10,000+  Free     0       Everyone   \n1     967   14M     500,000+  Free     0       Everyone   \n2   87510  8.7M   5,000,000+  Free     0       Everyone   \n3  215644   25M  50,000,000+  Free     0           Teen   \n4     967  2.8M     100,000+  Free     0       Everyone   \n\n                      Genres      Last Updated         Current Ver  \\\n0               Art & Design   January 7, 2018               1.0.0   \n1  Art & Design;Pretend Play  January 15, 2018               2.0.0   \n2               Art & Design    August 1, 2018               1.2.4   \n3               Art & Design      June 8, 2018  Varies with device   \n4    Art & Design;Creativity     June 20, 2018                 1.1   \n\n    Android Ver  \n0  4.0.3 and up  \n1  4.0.3 and up  \n2  4.0.3 and up  \n3    4.2 and up  \n4    4.4 and up  ",
      "text/html": "<div>\n<style scoped>\n    .dataframe tbody tr th:only-of-type {\n        vertical-align: middle;\n    }\n\n    .dataframe tbody tr th {\n        vertical-align: top;\n    }\n\n    .dataframe thead th {\n        text-align: right;\n    }\n</style>\n<table border=\"1\" class=\"dataframe\">\n  <thead>\n    <tr style=\"text-align: right;\">\n      <th></th>\n      <th>App</th>\n      <th>Category</th>\n      <th>Rating</th>\n      <th>Reviews</th>\n      <th>Size</th>\n      <th>Installs</th>\n      <th>Type</th>\n      <th>Price</th>\n      <th>Content Rating</th>\n      <th>Genres</th>\n      <th>Last Updated</th>\n      <th>Current Ver</th>\n      <th>Android Ver</th>\n    </tr>\n  </thead>\n  <tbody>\n    <tr>\n      <th>0</th>\n      <td>Photo Editor &amp; Candy Camera &amp; Grid &amp; ScrapBook</td>\n      <td>ART_AND_DESIGN</td>\n      <td>4.1</td>\n      <td>159</td>\n      <td>19M</td>\n      <td>10,000+</td>\n      <td>Free</td>\n      <td>0</td>\n      <td>Everyone</td>\n      <td>Art &amp; Design</td>\n      <td>January 7, 2018</td>\n      <td>1.0.0</td>\n      <td>4.0.3 and up</td>\n    </tr>\n    <tr>\n      <th>1</th>\n      <td>Coloring book moana</td>\n      <td>ART_AND_DESIGN</td>\n      <td>3.9</td>\n      <td>967</td>\n      <td>14M</td>\n      <td>500,000+</td>\n      <td>Free</td>\n      <td>0</td>\n      <td>Everyone</td>\n      <td>Art &amp; Design;Pretend Play</td>\n      <td>January 15, 2018</td>\n      <td>2.0.0</td>\n      <td>4.0.3 and up</td>\n    </tr>\n    <tr>\n      <th>2</th>\n      <td>U Launcher Lite – FREE Live Cool Themes, Hide ...</td>\n      <td>ART_AND_DESIGN</td>\n      <td>4.7</td>\n      <td>87510</td>\n      <td>8.7M</td>\n      <td>5,000,000+</td>\n      <td>Free</td>\n      <td>0</td>\n      <td>Everyone</td>\n      <td>Art &amp; Design</td>\n      <td>August 1, 2018</td>\n      <td>1.2.4</td>\n      <td>4.0.3 and up</td>\n    </tr>\n    <tr>\n      <th>3</th>\n      <td>Sketch - Draw &amp; Paint</td>\n      <td>ART_AND_DESIGN</td>\n      <td>4.5</td>\n      <td>215644</td>\n      <td>25M</td>\n      <td>50,000,000+</td>\n      <td>Free</td>\n      <td>0</td>\n      <td>Teen</td>\n      <td>Art &amp; Design</td>\n      <td>June 8, 2018</td>\n      <td>Varies with device</td>\n      <td>4.2 and up</td>\n    </tr>\n    <tr>\n      <th>4</th>\n      <td>Pixel Draw - Number Art Coloring Book</td>\n      <td>ART_AND_DESIGN</td>\n      <td>4.3</td>\n      <td>967</td>\n      <td>2.8M</td>\n      <td>100,000+</td>\n      <td>Free</td>\n      <td>0</td>\n      <td>Everyone</td>\n      <td>Art &amp; Design;Creativity</td>\n      <td>June 20, 2018</td>\n      <td>1.1</td>\n      <td>4.4 and up</td>\n    </tr>\n  </tbody>\n</table>\n</div>"
     },
     "execution_count": 27,
     "metadata": {},
     "output_type": "execute_result"
    }
   ],
   "source": [
    "# First few rows of the data set\n",
    "df.head()"
   ]
  },
  {
   "cell_type": "markdown",
   "id": "420054b7",
   "metadata": {},
   "source": [
    "<br>\n",
    "<h3><u> Data Preparation</u> </h3>\n",
    "<p> To Do:<br>\n",
    "<i>Add one hot encoding <br>\n",
    "Shorten app names <br>\n",
    "Categorize installs</i></p>"
   ]
  },
  {
   "cell_type": "code",
   "execution_count": 39,
   "id": "c099c2dc",
   "metadata": {},
   "outputs": [
    {
     "name": "stdout",
     "output_type": "stream",
     "text": [
      "App                  0\n",
      "Category             0\n",
      "Rating            1474\n",
      "Reviews              0\n",
      "Size                 0\n",
      "Installs             0\n",
      "Type                 1\n",
      "Price                0\n",
      "Content Rating       1\n",
      "Genres               0\n",
      "Last Updated         0\n",
      "Current Ver          8\n",
      "Android Ver          3\n",
      "dtype: int64\n",
      "\n",
      "Total Na Values: 1487\n"
     ]
    }
   ],
   "source": [
    "#Count how many na values are in each column/feature\n",
    "print(df.isna().sum())\n",
    "print(\"\\nTotal na Values: {}\".format(df.isna().sum().sum()))"
   ]
  },
  {
   "cell_type": "code",
   "execution_count": 40,
   "id": "813ccf75",
   "metadata": {},
   "outputs": [
    {
     "name": "stdout",
     "output_type": "stream",
     "text": [
      "Previous rows: 10841\n",
      "new rows: 9360\n",
      "% Change: -13.661101374411954\n",
      "Dropped rows with NA values: 1481\n",
      "Total Na Values: 0\n"
     ]
    }
   ],
   "source": [
    "# Drop the rows with missing information\n",
    "previousRows = df.shape[0]\n",
    "\n",
    "df = df.dropna()\n",
    "df.reset_index(drop=True, inplace = True)\n",
    "newRows = df.shape[0]\n",
    "\n",
    "print(\"Previous rows:\", previousRows)\n",
    "print(\"new rows:\", newRows)\n",
    "print(\"% Change:\", (1.0 * (newRows - previousRows) / previousRows) * 100.0)\n",
    "print(\"Dropped rows with NA values:\", previousRows - newRows)\n",
    "print(\"Total current na Values: {}\".format(df.isna().sum().sum()))"
   ]
  },
  {
   "cell_type": "code",
   "execution_count": 42,
   "outputs": [
    {
     "name": "stderr",
     "output_type": "stream",
     "text": [
      "C:\\Users\\Alberto\\AppData\\Local\\Temp/ipykernel_21812/1571949260.py:2: FutureWarning: The default value of regex will change from True to False in a future version. In addition, single character regular expressions will *not* be treated as literal strings when regex=True.\n",
      "  df['Price'] = df['Price'].str.replace('$', '').astype(float)\n"
     ]
    }
   ],
   "source": [
    "#Convert price column from object to float\n",
    "df['Price'] = df['Price'].str.replace('$', '').astype(float)\n",
    "\n",
    "#Convert reviews column from object to int\n",
    "df['Reviews'] = df['Reviews'].astype(int)"
   ],
   "metadata": {
    "collapsed": false,
    "pycharm": {
     "name": "#%%\n"
    }
   }
  },
  {
   "cell_type": "code",
   "execution_count": 62,
   "outputs": [
    {
     "data": {
      "text/plain": "                                                    App             Category  \\\n0        Photo Editor & Candy Camera & Grid & ScrapBook       ART_AND_DESIGN   \n1                                   Coloring book moana       ART_AND_DESIGN   \n2     U Launcher Lite – FREE Live Cool Themes, Hide ...       ART_AND_DESIGN   \n3                                 Sketch - Draw & Paint       ART_AND_DESIGN   \n4                 Pixel Draw - Number Art Coloring Book       ART_AND_DESIGN   \n...                                                 ...                  ...   \n9355                                      FR Calculator               FAMILY   \n9356                                   Sya9a Maroc - FR               FAMILY   \n9357                   Fr. Mike Schmitz Audio Teachings               FAMILY   \n9358                      The SCP Foundation DB fr nn5n  BOOKS_AND_REFERENCE   \n9359      iHoroscope - 2018 Daily Horoscope & Astrology            LIFESTYLE   \n\n      Rating  Reviews                Size     Installs  Type  Price  \\\n0        4.1      159                 19M      10,000+  Free    0.0   \n1        3.9      967                 14M     500,000+  Free    0.0   \n2        4.7    87510                8.7M   5,000,000+  Free    0.0   \n3        4.5   215644                 25M  50,000,000+  Free    0.0   \n4        4.3      967                2.8M     100,000+  Free    0.0   \n...      ...      ...                 ...          ...   ...    ...   \n9355     4.0        7                2.6M         500+  Free    0.0   \n9356     4.5       38                 53M       5,000+  Free    0.0   \n9357     5.0        4                3.6M         100+  Free    0.0   \n9358     4.5      114  Varies with device       1,000+  Free    0.0   \n9359     4.5   398307                 19M  10,000,000+  Free    0.0   \n\n     Content Rating                     Genres  \n0          Everyone               Art & Design  \n1          Everyone  Art & Design;Pretend Play  \n2          Everyone               Art & Design  \n3              Teen               Art & Design  \n4          Everyone    Art & Design;Creativity  \n...             ...                        ...  \n9355       Everyone                  Education  \n9356       Everyone                  Education  \n9357       Everyone                  Education  \n9358     Mature 17+          Books & Reference  \n9359       Everyone                  Lifestyle  \n\n[9360 rows x 10 columns]",
      "text/html": "<div>\n<style scoped>\n    .dataframe tbody tr th:only-of-type {\n        vertical-align: middle;\n    }\n\n    .dataframe tbody tr th {\n        vertical-align: top;\n    }\n\n    .dataframe thead th {\n        text-align: right;\n    }\n</style>\n<table border=\"1\" class=\"dataframe\">\n  <thead>\n    <tr style=\"text-align: right;\">\n      <th></th>\n      <th>App</th>\n      <th>Category</th>\n      <th>Rating</th>\n      <th>Reviews</th>\n      <th>Size</th>\n      <th>Installs</th>\n      <th>Type</th>\n      <th>Price</th>\n      <th>Content Rating</th>\n      <th>Genres</th>\n    </tr>\n  </thead>\n  <tbody>\n    <tr>\n      <th>0</th>\n      <td>Photo Editor &amp; Candy Camera &amp; Grid &amp; ScrapBook</td>\n      <td>ART_AND_DESIGN</td>\n      <td>4.1</td>\n      <td>159</td>\n      <td>19M</td>\n      <td>10,000+</td>\n      <td>Free</td>\n      <td>0.0</td>\n      <td>Everyone</td>\n      <td>Art &amp; Design</td>\n    </tr>\n    <tr>\n      <th>1</th>\n      <td>Coloring book moana</td>\n      <td>ART_AND_DESIGN</td>\n      <td>3.9</td>\n      <td>967</td>\n      <td>14M</td>\n      <td>500,000+</td>\n      <td>Free</td>\n      <td>0.0</td>\n      <td>Everyone</td>\n      <td>Art &amp; Design;Pretend Play</td>\n    </tr>\n    <tr>\n      <th>2</th>\n      <td>U Launcher Lite – FREE Live Cool Themes, Hide ...</td>\n      <td>ART_AND_DESIGN</td>\n      <td>4.7</td>\n      <td>87510</td>\n      <td>8.7M</td>\n      <td>5,000,000+</td>\n      <td>Free</td>\n      <td>0.0</td>\n      <td>Everyone</td>\n      <td>Art &amp; Design</td>\n    </tr>\n    <tr>\n      <th>3</th>\n      <td>Sketch - Draw &amp; Paint</td>\n      <td>ART_AND_DESIGN</td>\n      <td>4.5</td>\n      <td>215644</td>\n      <td>25M</td>\n      <td>50,000,000+</td>\n      <td>Free</td>\n      <td>0.0</td>\n      <td>Teen</td>\n      <td>Art &amp; Design</td>\n    </tr>\n    <tr>\n      <th>4</th>\n      <td>Pixel Draw - Number Art Coloring Book</td>\n      <td>ART_AND_DESIGN</td>\n      <td>4.3</td>\n      <td>967</td>\n      <td>2.8M</td>\n      <td>100,000+</td>\n      <td>Free</td>\n      <td>0.0</td>\n      <td>Everyone</td>\n      <td>Art &amp; Design;Creativity</td>\n    </tr>\n    <tr>\n      <th>...</th>\n      <td>...</td>\n      <td>...</td>\n      <td>...</td>\n      <td>...</td>\n      <td>...</td>\n      <td>...</td>\n      <td>...</td>\n      <td>...</td>\n      <td>...</td>\n      <td>...</td>\n    </tr>\n    <tr>\n      <th>9355</th>\n      <td>FR Calculator</td>\n      <td>FAMILY</td>\n      <td>4.0</td>\n      <td>7</td>\n      <td>2.6M</td>\n      <td>500+</td>\n      <td>Free</td>\n      <td>0.0</td>\n      <td>Everyone</td>\n      <td>Education</td>\n    </tr>\n    <tr>\n      <th>9356</th>\n      <td>Sya9a Maroc - FR</td>\n      <td>FAMILY</td>\n      <td>4.5</td>\n      <td>38</td>\n      <td>53M</td>\n      <td>5,000+</td>\n      <td>Free</td>\n      <td>0.0</td>\n      <td>Everyone</td>\n      <td>Education</td>\n    </tr>\n    <tr>\n      <th>9357</th>\n      <td>Fr. Mike Schmitz Audio Teachings</td>\n      <td>FAMILY</td>\n      <td>5.0</td>\n      <td>4</td>\n      <td>3.6M</td>\n      <td>100+</td>\n      <td>Free</td>\n      <td>0.0</td>\n      <td>Everyone</td>\n      <td>Education</td>\n    </tr>\n    <tr>\n      <th>9358</th>\n      <td>The SCP Foundation DB fr nn5n</td>\n      <td>BOOKS_AND_REFERENCE</td>\n      <td>4.5</td>\n      <td>114</td>\n      <td>Varies with device</td>\n      <td>1,000+</td>\n      <td>Free</td>\n      <td>0.0</td>\n      <td>Mature 17+</td>\n      <td>Books &amp; Reference</td>\n    </tr>\n    <tr>\n      <th>9359</th>\n      <td>iHoroscope - 2018 Daily Horoscope &amp; Astrology</td>\n      <td>LIFESTYLE</td>\n      <td>4.5</td>\n      <td>398307</td>\n      <td>19M</td>\n      <td>10,000,000+</td>\n      <td>Free</td>\n      <td>0.0</td>\n      <td>Everyone</td>\n      <td>Lifestyle</td>\n    </tr>\n  </tbody>\n</table>\n<p>9360 rows × 10 columns</p>\n</div>"
     },
     "execution_count": 62,
     "metadata": {},
     "output_type": "execute_result"
    }
   ],
   "source": [
    "#Remove columns not related to research question\n",
    "df.drop(['Android Ver', 'Current Ver', 'Last Updated'], axis=1)"
   ],
   "metadata": {
    "collapsed": false,
    "pycharm": {
     "name": "#%%\n"
    }
   }
  },
  {
   "cell_type": "markdown",
   "id": "1c5727f7",
   "metadata": {},
   "source": [
    "</br>\n",
    "<h3><u> Data Exploration & Visualization</u> </h3>\n",
    "<p> To Do:<br>\n",
    "<i>Fix crowded x-axis on some graphs <br>\n",
    "Make a grid exploring several features at once <br>\n",
    "Add other types of plots (scatter, violin, etc) <br>\n",
    "Create polynomial features<br>\n",
    "Sort free from paid apps<br>\n",
    "Condense features if possible</i></p>"
   ]
  },
  {
   "cell_type": "code",
   "execution_count": 70,
   "id": "f0876bc8",
   "metadata": {},
   "outputs": [
    {
     "name": "stdout",
     "output_type": "stream",
     "text": [
      "4.4    1108\n",
      "4.3    1076\n",
      "4.5    1037\n",
      "4.2     951\n",
      "4.6     823\n",
      "4.1     707\n",
      "4.0     567\n",
      "4.7     499\n",
      "3.9     386\n",
      "3.8     303\n",
      "5.0     274\n",
      "3.7     239\n",
      "4.8     234\n",
      "3.6     174\n",
      "3.5     163\n",
      "3.4     128\n",
      "3.3     102\n",
      "4.9      87\n",
      "3.0      83\n",
      "3.1      69\n",
      "3.2      63\n",
      "2.9      45\n",
      "2.8      42\n",
      "2.7      25\n",
      "2.6      25\n",
      "2.5      21\n",
      "2.3      20\n",
      "2.4      19\n",
      "1.0      16\n",
      "2.2      14\n",
      "1.9      13\n",
      "2.0      12\n",
      "1.7       8\n",
      "1.8       8\n",
      "2.1       8\n",
      "1.6       4\n",
      "1.4       3\n",
      "1.5       3\n",
      "1.2       1\n",
      "Name: Rating, dtype: int64\n"
     ]
    },
    {
     "data": {
      "text/plain": "[Text(0.5, 1.0, 'Count of Ratings')]"
     },
     "execution_count": 70,
     "metadata": {},
     "output_type": "execute_result"
    },
    {
     "data": {
      "text/plain": "<Figure size 648x504 with 1 Axes>",
      "image/png": "[encoded data removed]"
     },
     "metadata": {},
     "output_type": "display_data"
    }
   ],
   "source": [
    "# Show the distribution of all ratings\n",
    "print(df.Rating.value_counts())\n",
    "plot = sns.histplot(data=df, x='Rating', kde=True)\n",
    "plot.set(title='Count of Ratings')"
   ]
  },
  {
   "cell_type": "code",
   "execution_count": 109,
   "id": "6b28bf1b",
   "metadata": {},
   "outputs": [
    {
     "name": "stdout",
     "output_type": "stream",
     "text": [
      "Rating\n",
      "1.0            28\n",
      "1.2            44\n",
      "1.4            98\n",
      "1.5            61\n",
      "1.6           691\n",
      "1.7          2360\n",
      "1.8          3418\n",
      "1.9          3781\n",
      "2.0          2997\n",
      "2.1          3073\n",
      "2.2          1979\n",
      "2.3          2361\n",
      "2.4         14829\n",
      "2.5         20184\n",
      "2.6          4257\n",
      "2.7         27708\n",
      "2.8        124890\n",
      "2.9         57937\n",
      "3.0        162933\n",
      "3.1        320836\n",
      "3.2        228320\n",
      "3.3       1550176\n",
      "3.4        958289\n",
      "3.5       1648536\n",
      "3.6       1822819\n",
      "3.7       9978590\n",
      "3.8      10900396\n",
      "3.9      14831019\n",
      "4.0     282617594\n",
      "4.1     253744045\n",
      "4.2     220642167\n",
      "4.3     670892716\n",
      "4.4    1026002986\n",
      "4.5    1304281301\n",
      "4.6     779348285\n",
      "4.7     208458135\n",
      "4.8      23590734\n",
      "4.9       2312993\n",
      "5.0          2395\n",
      "Name: Reviews, dtype: int32\n"
     ]
    },
    {
     "data": {
      "text/plain": "(array([ 0,  1,  2,  3,  4,  5,  6,  7,  8,  9, 10, 11, 12, 13, 14, 15, 16,\n        17, 18, 19, 20, 21, 22, 23, 24, 25, 26, 27, 28, 29, 30, 31, 32, 33,\n        34, 35, 36, 37, 38]),\n [Text(0, 0, '1.0'),\n  Text(1, 0, '1.2'),\n  Text(2, 0, '1.4'),\n  Text(3, 0, '1.5'),\n  Text(4, 0, '1.6'),\n  Text(5, 0, '1.7'),\n  Text(6, 0, '1.8'),\n  Text(7, 0, '1.9'),\n  Text(8, 0, '2.0'),\n  Text(9, 0, '2.1'),\n  Text(10, 0, '2.2'),\n  Text(11, 0, '2.3'),\n  Text(12, 0, '2.4'),\n  Text(13, 0, '2.5'),\n  Text(14, 0, '2.6'),\n  Text(15, 0, '2.7'),\n  Text(16, 0, '2.8'),\n  Text(17, 0, '2.9'),\n  Text(18, 0, '3.0'),\n  Text(19, 0, '3.1'),\n  Text(20, 0, '3.2'),\n  Text(21, 0, '3.3'),\n  Text(22, 0, '3.4'),\n  Text(23, 0, '3.5'),\n  Text(24, 0, '3.6'),\n  Text(25, 0, '3.7'),\n  Text(26, 0, '3.8'),\n  Text(27, 0, '3.9'),\n  Text(28, 0, '4.0'),\n  Text(29, 0, '4.1'),\n  Text(30, 0, '4.2'),\n  Text(31, 0, '4.3'),\n  Text(32, 0, '4.4'),\n  Text(33, 0, '4.5'),\n  Text(34, 0, '4.6'),\n  Text(35, 0, '4.7'),\n  Text(36, 0, '4.8'),\n  Text(37, 0, '4.9'),\n  Text(38, 0, '5.0')])"
     },
     "execution_count": 109,
     "metadata": {},
     "output_type": "execute_result"
    },
    {
     "data": {
      "text/plain": "<Figure size 648x504 with 1 Axes>",
      "image/png": "[encoded data removed]"
     },
     "metadata": {},
     "output_type": "display_data"
    }
   ],
   "source": [
    "# Show the amount of reviews that apps with a specific rating have\n",
    "print(df.groupby('Rating')['Reviews'].sum())\n",
    "plot = sns.barplot(data=df, x='Rating', y='Reviews')\n",
    "plot.set(title='Count of Reviews vs Rating')\n",
    "plt.xticks(rotation=90)"
   ]
  },
  {
   "cell_type": "code",
   "execution_count": 87,
   "id": "693802c0",
   "metadata": {},
   "outputs": [
    {
     "name": "stdout",
     "output_type": "stream",
     "text": [
      "Genres\n",
      "Communication    815461799\n",
      "Social           621241091\n",
      "Casual           412078812\n",
      "Action           350303919\n",
      "Arcade           336990398\n",
      "Strategy         327198469\n",
      "Tools            272837822\n",
      "Photography      213516607\n",
      "Sports           192877016\n",
      "Shopping         115041033\n",
      "Name: Reviews, dtype: int32\n"
     ]
    },
    {
     "data": {
      "text/plain": "<AxesSubplot:xlabel='Genres'>"
     },
     "execution_count": 87,
     "metadata": {},
     "output_type": "execute_result"
    },
    {
     "data": {
      "text/plain": "<Figure size 648x504 with 1 Axes>",
      "image/png": "[encoded data removed]"
     },
     "metadata": {},
     "output_type": "display_data"
    }
   ],
   "source": [
    "# Examine how many reviews each genre has\n",
    "# Note - Need to fix crowded names on x-axis\n",
    "print(df.groupby('Genres')['Reviews'].sum().sort_values(ascending=False)[:10])\n",
    "df.groupby('Genres')['Reviews'].sum().sort_values(ascending=False)[:10].plot.bar()"
   ]
  },
  {
   "cell_type": "code",
   "execution_count": 123,
   "outputs": [
    {
     "name": "stdout",
     "output_type": "stream",
     "text": [
      "Tools            732\n",
      "Entertainment    533\n",
      "Education        468\n",
      "Action           358\n",
      "Productivity     351\n",
      "Medical          350\n",
      "Sports           333\n",
      "Communication    328\n",
      "Finance          323\n",
      "Photography      317\n",
      "Name: Genres, dtype: int64\n"
     ]
    },
    {
     "data": {
      "text/plain": "(array([0, 1, 2, 3, 4, 5, 6, 7, 8, 9]),\n [Text(0, 0, 'Tools'),\n  Text(1, 0, 'Entertainment'),\n  Text(2, 0, 'Education'),\n  Text(3, 0, 'Action'),\n  Text(4, 0, 'Productivity'),\n  Text(5, 0, 'Medical'),\n  Text(6, 0, 'Sports'),\n  Text(7, 0, 'Communication'),\n  Text(8, 0, 'Finance'),\n  Text(9, 0, 'Photography')])"
     },
     "execution_count": 123,
     "metadata": {},
     "output_type": "execute_result"
    },
    {
     "data": {
      "text/plain": "<Figure size 648x504 with 1 Axes>",
      "image/png": "[encoded data removed]"
     },
     "metadata": {},
     "output_type": "display_data"
    }
   ],
   "source": [
    "# Examine the amount of ratings each genre has\n",
    "# Note - Need to fix crowded names on x-axis\n",
    "query = df['Genres'].value_counts()[:10]\n",
    "print(query)\n",
    "\n",
    "plot = sns.barplot(x=query.index, y=query.values)\n",
    "plot.set(title='Count vs Rating', ylabel='Count')\n",
    "plt.xticks(rotation=90)"
   ],
   "metadata": {
    "collapsed": false,
    "pycharm": {
     "name": "#%%\n"
    }
   }
  },
  {
   "cell_type": "code",
   "execution_count": 12,
   "id": "3950a631",
   "metadata": {},
   "outputs": [
    {
     "name": "stdout",
     "output_type": "stream",
     "text": [
      "Tools                      732\n",
      "Entertainment              533\n",
      "Education                  468\n",
      "Action                     358\n",
      "Productivity               351\n",
      "                          ... \n",
      "Parenting;Brain Games        1\n",
      "Card;Brain Games             1\n",
      "Tools;Education              1\n",
      "Entertainment;Education      1\n",
      "Strategy;Creativity          1\n",
      "Name: Genres, Length: 115, dtype: int64\n"
     ]
    }
   ],
   "source": [
    "# Shows the count of total apps with the given genre\n",
    "print(df['Genres'].value_counts())"
   ]
  },
  {
   "cell_type": "markdown",
   "id": "416f353f",
   "metadata": {},
   "source": [
    "<h3><u> Machine Learning and Predictions </u></h3>\n",
    "<p> To Do:<br>\n",
    "<i>Fix crowded x-axis on some graphs <br>\n",
    "Debug Errors <br>\n",
    "Examine various modeling algorithms <br>\n",
    "Examine test and training rmse<br>\n",
    "Graph test and training rmse<br>\n",
    "Examine accuracy of each algorithm used</i></p>"
   ]
  },
  {
   "cell_type": "code",
   "execution_count": 13,
   "id": "fbb8ab31",
   "metadata": {},
   "outputs": [],
   "source": [
    "# Function to calculate rmse\n",
    "def rmse(predicted, actual):\n",
    "    return np.sqrt(((predicted - actual)**2).mean())"
   ]
  },
  {
   "cell_type": "code",
   "execution_count": 14,
   "id": "4f28ac2c",
   "metadata": {},
   "outputs": [],
   "source": [
    "# select the predictor variables and target variables to be used with regression\n",
    "predictors = ['Rating']\n",
    "#dropping categortical features, such as ocean_proximity, including spatial ones such as long/lat.\n",
    "target = 'Installs'\n",
    "X = df[predictors].values\n",
    "y = df[target].values\n",
    "# Split the data into training and test sets, and scale\n",
    "scaler = StandardScaler()\n",
    "\n",
    "# unscaled version (note that scaling is only used on predictor variables)\n",
    "X_train_raw, X_test_raw, y_train, y_test = train_test_split(X, y, test_size=0.30, random_state=42)\n",
    "\n",
    "# scaled version\n",
    "X_train = scaler.fit_transform(X_train_raw)\n",
    "X_test = scaler.transform(X_test_raw)"
   ]
  },
  {
   "cell_type": "code",
   "execution_count": null,
   "id": "b37f8b94",
   "metadata": {},
   "outputs": [],
   "source": [
    "# Needs to be debugged\n",
    "regr = KNeighborsRegressor()\n",
    "regr.fit(X_train, y_train)\n",
    "predictions = regr.predict(X_test)\n",
    "test_rmse = rmse(predictions, y_test)\n",
    "print('test RMSE, default hyperparameters: {0:.1f}'.format(test_rmse))"
   ]
  }
 ],
 "metadata": {
  "kernelspec": {
   "display_name": "Python 3",
   "language": "python",
   "name": "python3"
  },
  "language_info": {
   "codemirror_mode": {
    "name": "ipython",
    "version": 3
   },
   "file_extension": ".py",
   "mimetype": "text/x-python",
   "name": "python",
   "nbconvert_exporter": "python",
   "pygments_lexer": "ipython3",
   "version": "3.9.7"
  }
 },
 "nbformat": 4,
 "nbformat_minor": 5
}