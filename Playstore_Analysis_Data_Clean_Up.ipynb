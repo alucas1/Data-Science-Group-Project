{
 "cells": [
  {
   "cell_type": "markdown",
   "id": "bfd7850e",
   "metadata": {},
   "source": [
    "<h3>Google Play Store App Purchasing Trends</h3>\n",
    "\n",
    "<p><b>Authors: </b><br>\n",
    "Bryan Aguiar,\n",
    "Alberto Lucas,\n",
    "Emerald Kunkle</p>\n",
    "\n",
    "<p><b>Introduction:</b><br>\n",
    "In our final project, we selected the data set Google Play Store Apps from Lavanya on Kaggle. Our goal is to compare the amount of people buying an app with a high rating, to infer if higher rated apps are correlated with a higher likelihood of purchase. The results would be useful for consumers to know when considering an app purchase, and may save money if a user is vesting more of their willingness to purchase on the ratings from others rather than the personal utility they might find with the prospective app.</p>\n",
    "\n",
    "<p><b>Description of Data Set:</b><br>\n",
    "Our selected data set is a compiled list of Google Play Store apps and the apps’ statistics in 2019. The data is purely quantitative, consisting of values such as application name, category, rating, number of reviews, size of the application, number of installs, whether or not the app is free, the price of the app (when it is not free), the content rating, and the genres. It is notable that all these values came from the time of the data collection, and may not accurately reflect current values found on the Google Play Store today.</p>\n",
    "\n",
    "<p><b>Predictions:</b><br>\n",
    "Our prediction is that there will indeed be a correlation between highly rated apps and the amount of purchases it garnered. This is due to the fact that many people often seek the advice of others when debating whether to make a purchase, and will often use this advice to estimate the reputation of an app developer they are not familiar with.</p>\n",
    "\n",
    "<p><b>Features used as predictors:</b><br>\n",
    "The most important data values we will be using in our evaluations is the Installs (number of user downloads/installs for the app), the Type (paid or free), and Rating (as when scraped). The predictors we anticipate is that an app of type “Paid” will have a higher rate of Installs correlated with a higher number of Rating.</p>"
   ]
  },
  {
   "cell_type": "code",
   "execution_count": 1,
   "id": "3328562c",
   "metadata": {
    "pycharm": {
     "name": "#%%\n"
    }
   },
   "outputs": [],
   "source": [
    "import numpy as np\n",
    "import pandas as pd\n",
    "import matplotlib.pyplot as plt\n",
    "from matplotlib import rcParams\n",
    "import seaborn as sns\n",
    "from sklearn.model_selection import train_test_split\n",
    "from sklearn.preprocessing import StandardScaler\n",
    "from sklearn.neighbors import KNeighborsRegressor"
   ]
  },
  {
   "cell_type": "code",
   "execution_count": 2,
   "id": "3b10a88e",
   "metadata": {
    "pycharm": {
     "name": "#%%\n"
    }
   },
   "outputs": [],
   "source": [
    "# allow output to span multiple output lines in the console\n",
    "pd.set_option('display.max_columns', 500)\n",
    "\n",
    "# switch to seaborn default stylistic parameters\n",
    "sns.set()\n",
    "sns.set_context('notebook')\n",
    "\n",
    "# change default plot size\n",
    "rcParams['figure.figsize'] = 9,7"
   ]
  },
  {
   "cell_type": "markdown",
   "id": "0042d911",
   "metadata": {},
   "source": [
    "<br>\n",
    "<h3><u> Data Set - googleplaystore.csv </u></h3>\n",
    "<p><b>Source:</b> \n",
    "<a href=\"https://www.kaggle.com/lava18/google-play-store-apps\">https://www.kaggle.com/lava18/google-play-store-apps </a></p>\n",
    "<p><b>Description:</b> Contains information related to applications offered on the Android Playstore marketplace.</p>"
   ]
  },
  {
   "cell_type": "code",
   "execution_count": 3,
   "id": "2207df70",
   "metadata": {},
   "outputs": [],
   "source": [
    "# data file must be downloaded from source and pathname below should reference that file\n",
    "df = pd.read_csv('googleplaystore.csv')"
   ]
  },
  {
   "cell_type": "code",
   "execution_count": 4,
   "id": "7b57822b",
   "metadata": {},
   "outputs": [
    {
     "name": "stdout",
     "output_type": "stream",
     "text": [
      "<class 'pandas.core.frame.DataFrame'>\n",
      "RangeIndex: 10841 entries, 0 to 10840\n",
      "Data columns (total 13 columns):\n",
      " #   Column          Non-Null Count  Dtype  \n",
      "---  ------          --------------  -----  \n",
      " 0   App             10841 non-null  object \n",
      " 1   Category        10841 non-null  object \n",
      " 2   Rating          9367 non-null   float64\n",
      " 3   Reviews         10841 non-null  object \n",
      " 4   Size            10841 non-null  object \n",
      " 5   Installs        10841 non-null  object \n",
      " 6   Type            10840 non-null  object \n",
      " 7   Price           10841 non-null  object \n",
      " 8   Content Rating  10840 non-null  object \n",
      " 9   Genres          10841 non-null  object \n",
      " 10  Last Updated    10841 non-null  object \n",
      " 11  Current Ver     10833 non-null  object \n",
      " 12  Android Ver     10838 non-null  object \n",
      "dtypes: float64(1), object(12)\n",
      "memory usage: 1.1+ MB\n"
     ]
    }
   ],
   "source": [
    "# All columns/features in the data set\n",
    "df.info()"
   ]
  },
  {
   "cell_type": "code",
   "execution_count": 5,
   "id": "77492073",
   "metadata": {},
   "outputs": [
    {
     "data": {
      "text/html": [
       "<div>\n",
       "<style scoped>\n",
       "    .dataframe tbody tr th:only-of-type {\n",
       "        vertical-align: middle;\n",
       "    }\n",
       "\n",
       "    .dataframe tbody tr th {\n",
       "        vertical-align: top;\n",
       "    }\n",
       "\n",
       "    .dataframe thead th {\n",
       "        text-align: right;\n",
       "    }\n",
       "</style>\n",
       "<table border=\"1\" class=\"dataframe\">\n",
       "  <thead>\n",
       "    <tr style=\"text-align: right;\">\n",
       "      <th></th>\n",
       "      <th>App</th>\n",
       "      <th>Category</th>\n",
       "      <th>Rating</th>\n",
       "      <th>Reviews</th>\n",
       "      <th>Size</th>\n",
       "      <th>Installs</th>\n",
       "      <th>Type</th>\n",
       "      <th>Price</th>\n",
       "      <th>Content Rating</th>\n",
       "      <th>Genres</th>\n",
       "      <th>Last Updated</th>\n",
       "      <th>Current Ver</th>\n",
       "      <th>Android Ver</th>\n",
       "    </tr>\n",
       "  </thead>\n",
       "  <tbody>\n",
       "    <tr>\n",
       "      <th>0</th>\n",
       "      <td>Photo Editor &amp; Candy Camera &amp; Grid &amp; ScrapBook</td>\n",
       "      <td>ART_AND_DESIGN</td>\n",
       "      <td>4.1</td>\n",
       "      <td>159</td>\n",
       "      <td>19M</td>\n",
       "      <td>10,000+</td>\n",
       "      <td>Free</td>\n",
       "      <td>0</td>\n",
       "      <td>Everyone</td>\n",
       "      <td>Art &amp; Design</td>\n",
       "      <td>January 7, 2018</td>\n",
       "      <td>1.0.0</td>\n",
       "      <td>4.0.3 and up</td>\n",
       "    </tr>\n",
       "    <tr>\n",
       "      <th>1</th>\n",
       "      <td>Coloring book moana</td>\n",
       "      <td>ART_AND_DESIGN</td>\n",
       "      <td>3.9</td>\n",
       "      <td>967</td>\n",
       "      <td>14M</td>\n",
       "      <td>500,000+</td>\n",
       "      <td>Free</td>\n",
       "      <td>0</td>\n",
       "      <td>Everyone</td>\n",
       "      <td>Art &amp; Design;Pretend Play</td>\n",
       "      <td>January 15, 2018</td>\n",
       "      <td>2.0.0</td>\n",
       "      <td>4.0.3 and up</td>\n",
       "    </tr>\n",
       "    <tr>\n",
       "      <th>2</th>\n",
       "      <td>U Launcher Lite – FREE Live Cool Themes, Hide ...</td>\n",
       "      <td>ART_AND_DESIGN</td>\n",
       "      <td>4.7</td>\n",
       "      <td>87510</td>\n",
       "      <td>8.7M</td>\n",
       "      <td>5,000,000+</td>\n",
       "      <td>Free</td>\n",
       "      <td>0</td>\n",
       "      <td>Everyone</td>\n",
       "      <td>Art &amp; Design</td>\n",
       "      <td>August 1, 2018</td>\n",
       "      <td>1.2.4</td>\n",
       "      <td>4.0.3 and up</td>\n",
       "    </tr>\n",
       "    <tr>\n",
       "      <th>3</th>\n",
       "      <td>Sketch - Draw &amp; Paint</td>\n",
       "      <td>ART_AND_DESIGN</td>\n",
       "      <td>4.5</td>\n",
       "      <td>215644</td>\n",
       "      <td>25M</td>\n",
       "      <td>50,000,000+</td>\n",
       "      <td>Free</td>\n",
       "      <td>0</td>\n",
       "      <td>Teen</td>\n",
       "      <td>Art &amp; Design</td>\n",
       "      <td>June 8, 2018</td>\n",
       "      <td>Varies with device</td>\n",
       "      <td>4.2 and up</td>\n",
       "    </tr>\n",
       "    <tr>\n",
       "      <th>4</th>\n",
       "      <td>Pixel Draw - Number Art Coloring Book</td>\n",
       "      <td>ART_AND_DESIGN</td>\n",
       "      <td>4.3</td>\n",
       "      <td>967</td>\n",
       "      <td>2.8M</td>\n",
       "      <td>100,000+</td>\n",
       "      <td>Free</td>\n",
       "      <td>0</td>\n",
       "      <td>Everyone</td>\n",
       "      <td>Art &amp; Design;Creativity</td>\n",
       "      <td>June 20, 2018</td>\n",
       "      <td>1.1</td>\n",
       "      <td>4.4 and up</td>\n",
       "    </tr>\n",
       "  </tbody>\n",
       "</table>\n",
       "</div>"
      ],
      "text/plain": [
       "                                                 App        Category  Rating  \\\n",
       "0     Photo Editor & Candy Camera & Grid & ScrapBook  ART_AND_DESIGN     4.1   \n",
       "1                                Coloring book moana  ART_AND_DESIGN     3.9   \n",
       "2  U Launcher Lite – FREE Live Cool Themes, Hide ...  ART_AND_DESIGN     4.7   \n",
       "3                              Sketch - Draw & Paint  ART_AND_DESIGN     4.5   \n",
       "4              Pixel Draw - Number Art Coloring Book  ART_AND_DESIGN     4.3   \n",
       "\n",
       "  Reviews  Size     Installs  Type Price Content Rating  \\\n",
       "0     159   19M      10,000+  Free     0       Everyone   \n",
       "1     967   14M     500,000+  Free     0       Everyone   \n",
       "2   87510  8.7M   5,000,000+  Free     0       Everyone   \n",
       "3  215644   25M  50,000,000+  Free     0           Teen   \n",
       "4     967  2.8M     100,000+  Free     0       Everyone   \n",
       "\n",
       "                      Genres      Last Updated         Current Ver  \\\n",
       "0               Art & Design   January 7, 2018               1.0.0   \n",
       "1  Art & Design;Pretend Play  January 15, 2018               2.0.0   \n",
       "2               Art & Design    August 1, 2018               1.2.4   \n",
       "3               Art & Design      June 8, 2018  Varies with device   \n",
       "4    Art & Design;Creativity     June 20, 2018                 1.1   \n",
       "\n",
       "    Android Ver  \n",
       "0  4.0.3 and up  \n",
       "1  4.0.3 and up  \n",
       "2  4.0.3 and up  \n",
       "3    4.2 and up  \n",
       "4    4.4 and up  "
      ]
     },
     "execution_count": 5,
     "metadata": {},
     "output_type": "execute_result"
    }
   ],
   "source": [
    "# First few rows of the data set\n",
    "df.head()"
   ]
  },
  {
   "cell_type": "markdown",
   "id": "420054b7",
   "metadata": {},
   "source": [
    "<br>\n",
    "<h3><u> Data Preparation</u> </h3>\n",
    "<p> To Do:<br>\n",
    "<i>Add one hot encoding <br>\n",
    "Shorten app names <br>\n",
    "Categorize installs</i></p>"
   ]
  },
  {
   "cell_type": "code",
   "execution_count": 6,
   "id": "c099c2dc",
   "metadata": {},
   "outputs": [
    {
     "name": "stdout",
     "output_type": "stream",
     "text": [
      "App                  0\n",
      "Category             0\n",
      "Rating            1474\n",
      "Reviews              0\n",
      "Size                 0\n",
      "Installs             0\n",
      "Type                 1\n",
      "Price                0\n",
      "Content Rating       1\n",
      "Genres               0\n",
      "Last Updated         0\n",
      "Current Ver          8\n",
      "Android Ver          3\n",
      "dtype: int64\n",
      "\n",
      "Total na Values: 1487\n"
     ]
    }
   ],
   "source": [
    "#Count how many na values are in each column/feature\n",
    "print(df.isna().sum())\n",
    "print(\"\\nTotal na Values: {}\".format(df.isna().sum().sum()))"
   ]
  },
  {
   "cell_type": "code",
   "execution_count": 7,
   "id": "813ccf75",
   "metadata": {},
   "outputs": [
    {
     "name": "stdout",
     "output_type": "stream",
     "text": [
      "Previous rows: 10841\n",
      "new rows: 7723\n",
      "% Change: -28.76118439258371\n",
      "Dropped rows with NA values: 3118\n",
      "Total current na Values: 0\n"
     ]
    }
   ],
   "source": [
    "# Drop the rows with missing information\n",
    "previousRows = df.shape[0]\n",
    "\n",
    "df = df.dropna()\n",
    "df = df[df['Size'] != 'Varies with device']\n",
    "df.reset_index(drop=True, inplace = True)\n",
    "newRows = df.shape[0]\n",
    "\n",
    "print(\"Previous rows:\", previousRows)\n",
    "print(\"new rows:\", newRows)\n",
    "print(\"% Change:\", (1.0 * (newRows - previousRows) / previousRows) * 100.0)\n",
    "print(\"Dropped rows with NA values:\", previousRows - newRows)\n",
    "print(\"Total current na Values: {}\".format(df.isna().sum().sum()))"
   ]
  },
  {
   "cell_type": "code",
   "execution_count": 8,
   "id": "fdab1925",
   "metadata": {
    "pycharm": {
     "name": "#%%\n"
    }
   },
   "outputs": [
    {
     "name": "stderr",
     "output_type": "stream",
     "text": [
      "C:\\Users\\Public\\Documents\\Wondershare\\CreatorTemp/ipykernel_25388/4252375552.py:2: FutureWarning: The default value of regex will change from True to False in a future version. In addition, single character regular expressions will *not* be treated as literal strings when regex=True.\n",
      "  df['Price'] = df['Price'].str.replace('$', '').astype(float)\n",
      "C:\\Users\\Public\\Documents\\Wondershare\\CreatorTemp/ipykernel_25388/4252375552.py:10: SettingWithCopyWarning: \n",
      "A value is trying to be set on a copy of a slice from a DataFrame\n",
      "\n",
      "See the caveats in the documentation: https://pandas.pydata.org/pandas-docs/stable/user_guide/indexing.html#returning-a-view-versus-a-copy\n",
      "  df['Size'][df['Size'].str.strip().str[-1] == 'M'] = temp\n",
      "C:\\Users\\Public\\Documents\\Wondershare\\CreatorTemp/ipykernel_25388/4252375552.py:14: SettingWithCopyWarning: \n",
      "A value is trying to be set on a copy of a slice from a DataFrame\n",
      "\n",
      "See the caveats in the documentation: https://pandas.pydata.org/pandas-docs/stable/user_guide/indexing.html#returning-a-view-versus-a-copy\n",
      "  df['Size'][df['Size'].str.strip().str[-1] == 'k'] = temp\n"
     ]
    }
   ],
   "source": [
    "#Convert price column from object to float\n",
    "df['Price'] = df['Price'].str.replace('$', '').astype(float)\n",
    "\n",
    "#Convert reviews column from object to int\n",
    "df['Reviews'] = df['Reviews'].astype(int)\n",
    "\n",
    "#Convert Size column from object to float\n",
    "temp = df['Size'][df['Size'].str.strip().str[-1] == 'M'].str.replace('M', '')\n",
    "temp = temp.astype(float)\n",
    "df['Size'][df['Size'].str.strip().str[-1] == 'M'] = temp\n",
    "\n",
    "temp = df['Size'][df['Size'].str.strip().str[-1] == 'k'].str.replace('k', '')\n",
    "temp = temp.astype(float) / 1000\n",
    "df['Size'][df['Size'].str.strip().str[-1] == 'k'] = temp\n",
    "\n",
    "#Condensing Multi Genre Categories into new Primary Genre based on first entry\n",
    "df['Primary_Genre'] = df['Genres'].str.split(';', 1)\n",
    "df['Primary_Genre'] = df['Primary_Genre'].str.get(0)"
   ]
  },
  {
   "cell_type": "code",
   "execution_count": 9,
   "id": "0c397216",
   "metadata": {
    "pycharm": {
     "name": "#%%\n"
    }
   },
   "outputs": [
    {
     "data": {
      "text/html": [
       "<div>\n",
       "<style scoped>\n",
       "    .dataframe tbody tr th:only-of-type {\n",
       "        vertical-align: middle;\n",
       "    }\n",
       "\n",
       "    .dataframe tbody tr th {\n",
       "        vertical-align: top;\n",
       "    }\n",
       "\n",
       "    .dataframe thead th {\n",
       "        text-align: right;\n",
       "    }\n",
       "</style>\n",
       "<table border=\"1\" class=\"dataframe\">\n",
       "  <thead>\n",
       "    <tr style=\"text-align: right;\">\n",
       "      <th></th>\n",
       "      <th>App</th>\n",
       "      <th>Category</th>\n",
       "      <th>Rating</th>\n",
       "      <th>Reviews</th>\n",
       "      <th>Size</th>\n",
       "      <th>Installs</th>\n",
       "      <th>Type</th>\n",
       "      <th>Price</th>\n",
       "      <th>Content Rating</th>\n",
       "      <th>Genres</th>\n",
       "      <th>Primary_Genre</th>\n",
       "    </tr>\n",
       "  </thead>\n",
       "  <tbody>\n",
       "    <tr>\n",
       "      <th>0</th>\n",
       "      <td>Photo Editor &amp; Candy Camera &amp; Grid &amp; ScrapBook</td>\n",
       "      <td>ART_AND_DESIGN</td>\n",
       "      <td>4.1</td>\n",
       "      <td>159</td>\n",
       "      <td>19.0</td>\n",
       "      <td>10,000+</td>\n",
       "      <td>Free</td>\n",
       "      <td>0.0</td>\n",
       "      <td>Everyone</td>\n",
       "      <td>Art &amp; Design</td>\n",
       "      <td>Art &amp; Design</td>\n",
       "    </tr>\n",
       "    <tr>\n",
       "      <th>1</th>\n",
       "      <td>Coloring book moana</td>\n",
       "      <td>ART_AND_DESIGN</td>\n",
       "      <td>3.9</td>\n",
       "      <td>967</td>\n",
       "      <td>14.0</td>\n",
       "      <td>500,000+</td>\n",
       "      <td>Free</td>\n",
       "      <td>0.0</td>\n",
       "      <td>Everyone</td>\n",
       "      <td>Art &amp; Design;Pretend Play</td>\n",
       "      <td>Art &amp; Design</td>\n",
       "    </tr>\n",
       "    <tr>\n",
       "      <th>2</th>\n",
       "      <td>U Launcher Lite – FREE Live Cool Themes, Hide ...</td>\n",
       "      <td>ART_AND_DESIGN</td>\n",
       "      <td>4.7</td>\n",
       "      <td>87510</td>\n",
       "      <td>8.7</td>\n",
       "      <td>5,000,000+</td>\n",
       "      <td>Free</td>\n",
       "      <td>0.0</td>\n",
       "      <td>Everyone</td>\n",
       "      <td>Art &amp; Design</td>\n",
       "      <td>Art &amp; Design</td>\n",
       "    </tr>\n",
       "    <tr>\n",
       "      <th>3</th>\n",
       "      <td>Sketch - Draw &amp; Paint</td>\n",
       "      <td>ART_AND_DESIGN</td>\n",
       "      <td>4.5</td>\n",
       "      <td>215644</td>\n",
       "      <td>25.0</td>\n",
       "      <td>50,000,000+</td>\n",
       "      <td>Free</td>\n",
       "      <td>0.0</td>\n",
       "      <td>Teen</td>\n",
       "      <td>Art &amp; Design</td>\n",
       "      <td>Art &amp; Design</td>\n",
       "    </tr>\n",
       "    <tr>\n",
       "      <th>4</th>\n",
       "      <td>Pixel Draw - Number Art Coloring Book</td>\n",
       "      <td>ART_AND_DESIGN</td>\n",
       "      <td>4.3</td>\n",
       "      <td>967</td>\n",
       "      <td>2.8</td>\n",
       "      <td>100,000+</td>\n",
       "      <td>Free</td>\n",
       "      <td>0.0</td>\n",
       "      <td>Everyone</td>\n",
       "      <td>Art &amp; Design;Creativity</td>\n",
       "      <td>Art &amp; Design</td>\n",
       "    </tr>\n",
       "    <tr>\n",
       "      <th>...</th>\n",
       "      <td>...</td>\n",
       "      <td>...</td>\n",
       "      <td>...</td>\n",
       "      <td>...</td>\n",
       "      <td>...</td>\n",
       "      <td>...</td>\n",
       "      <td>...</td>\n",
       "      <td>...</td>\n",
       "      <td>...</td>\n",
       "      <td>...</td>\n",
       "      <td>...</td>\n",
       "    </tr>\n",
       "    <tr>\n",
       "      <th>7718</th>\n",
       "      <td>Chemin (fr)</td>\n",
       "      <td>BOOKS_AND_REFERENCE</td>\n",
       "      <td>4.8</td>\n",
       "      <td>44</td>\n",
       "      <td>0.619</td>\n",
       "      <td>1,000+</td>\n",
       "      <td>Free</td>\n",
       "      <td>0.0</td>\n",
       "      <td>Everyone</td>\n",
       "      <td>Books &amp; Reference</td>\n",
       "      <td>Books &amp; Reference</td>\n",
       "    </tr>\n",
       "    <tr>\n",
       "      <th>7719</th>\n",
       "      <td>FR Calculator</td>\n",
       "      <td>FAMILY</td>\n",
       "      <td>4.0</td>\n",
       "      <td>7</td>\n",
       "      <td>2.6</td>\n",
       "      <td>500+</td>\n",
       "      <td>Free</td>\n",
       "      <td>0.0</td>\n",
       "      <td>Everyone</td>\n",
       "      <td>Education</td>\n",
       "      <td>Education</td>\n",
       "    </tr>\n",
       "    <tr>\n",
       "      <th>7720</th>\n",
       "      <td>Sya9a Maroc - FR</td>\n",
       "      <td>FAMILY</td>\n",
       "      <td>4.5</td>\n",
       "      <td>38</td>\n",
       "      <td>53.0</td>\n",
       "      <td>5,000+</td>\n",
       "      <td>Free</td>\n",
       "      <td>0.0</td>\n",
       "      <td>Everyone</td>\n",
       "      <td>Education</td>\n",
       "      <td>Education</td>\n",
       "    </tr>\n",
       "    <tr>\n",
       "      <th>7721</th>\n",
       "      <td>Fr. Mike Schmitz Audio Teachings</td>\n",
       "      <td>FAMILY</td>\n",
       "      <td>5.0</td>\n",
       "      <td>4</td>\n",
       "      <td>3.6</td>\n",
       "      <td>100+</td>\n",
       "      <td>Free</td>\n",
       "      <td>0.0</td>\n",
       "      <td>Everyone</td>\n",
       "      <td>Education</td>\n",
       "      <td>Education</td>\n",
       "    </tr>\n",
       "    <tr>\n",
       "      <th>7722</th>\n",
       "      <td>iHoroscope - 2018 Daily Horoscope &amp; Astrology</td>\n",
       "      <td>LIFESTYLE</td>\n",
       "      <td>4.5</td>\n",
       "      <td>398307</td>\n",
       "      <td>19.0</td>\n",
       "      <td>10,000,000+</td>\n",
       "      <td>Free</td>\n",
       "      <td>0.0</td>\n",
       "      <td>Everyone</td>\n",
       "      <td>Lifestyle</td>\n",
       "      <td>Lifestyle</td>\n",
       "    </tr>\n",
       "  </tbody>\n",
       "</table>\n",
       "<p>7723 rows × 11 columns</p>\n",
       "</div>"
      ],
      "text/plain": [
       "                                                    App             Category  \\\n",
       "0        Photo Editor & Candy Camera & Grid & ScrapBook       ART_AND_DESIGN   \n",
       "1                                   Coloring book moana       ART_AND_DESIGN   \n",
       "2     U Launcher Lite – FREE Live Cool Themes, Hide ...       ART_AND_DESIGN   \n",
       "3                                 Sketch - Draw & Paint       ART_AND_DESIGN   \n",
       "4                 Pixel Draw - Number Art Coloring Book       ART_AND_DESIGN   \n",
       "...                                                 ...                  ...   \n",
       "7718                                        Chemin (fr)  BOOKS_AND_REFERENCE   \n",
       "7719                                      FR Calculator               FAMILY   \n",
       "7720                                   Sya9a Maroc - FR               FAMILY   \n",
       "7721                   Fr. Mike Schmitz Audio Teachings               FAMILY   \n",
       "7722      iHoroscope - 2018 Daily Horoscope & Astrology            LIFESTYLE   \n",
       "\n",
       "      Rating  Reviews   Size     Installs  Type  Price Content Rating  \\\n",
       "0        4.1      159   19.0      10,000+  Free    0.0       Everyone   \n",
       "1        3.9      967   14.0     500,000+  Free    0.0       Everyone   \n",
       "2        4.7    87510    8.7   5,000,000+  Free    0.0       Everyone   \n",
       "3        4.5   215644   25.0  50,000,000+  Free    0.0           Teen   \n",
       "4        4.3      967    2.8     100,000+  Free    0.0       Everyone   \n",
       "...      ...      ...    ...          ...   ...    ...            ...   \n",
       "7718     4.8       44  0.619       1,000+  Free    0.0       Everyone   \n",
       "7719     4.0        7    2.6         500+  Free    0.0       Everyone   \n",
       "7720     4.5       38   53.0       5,000+  Free    0.0       Everyone   \n",
       "7721     5.0        4    3.6         100+  Free    0.0       Everyone   \n",
       "7722     4.5   398307   19.0  10,000,000+  Free    0.0       Everyone   \n",
       "\n",
       "                         Genres      Primary_Genre  \n",
       "0                  Art & Design       Art & Design  \n",
       "1     Art & Design;Pretend Play       Art & Design  \n",
       "2                  Art & Design       Art & Design  \n",
       "3                  Art & Design       Art & Design  \n",
       "4       Art & Design;Creativity       Art & Design  \n",
       "...                         ...                ...  \n",
       "7718          Books & Reference  Books & Reference  \n",
       "7719                  Education          Education  \n",
       "7720                  Education          Education  \n",
       "7721                  Education          Education  \n",
       "7722                  Lifestyle          Lifestyle  \n",
       "\n",
       "[7723 rows x 11 columns]"
      ]
     },
     "execution_count": 9,
     "metadata": {},
     "output_type": "execute_result"
    }
   ],
   "source": [
    "#Remove columns not related to research question\n",
    "df.drop(['Android Ver', 'Current Ver', 'Last Updated'], axis=1)"
   ]
  },
  {
   "cell_type": "markdown",
   "id": "1c5727f7",
   "metadata": {},
   "source": [
    "</br>\n",
    "<h3><u> Data Exploration & Visualization</u> </h3>\n",
    "<p> To Do:<br>\n",
    "<i>Fix crowded x-axis on some graphs <br>\n",
    "Make a grid exploring several features at once <br>\n",
    "Add other types of plots (scatter, violin, etc) <br>\n",
    "Create polynomial features<br>\n",
    "Sort free from paid apps<br>\n",
    "Condense features if possible</i></p>"
   ]
  },
  {
   "cell_type": "code",
   "execution_count": 10,
   "id": "f0876bc8",
   "metadata": {},
   "outputs": [
    {
     "name": "stdout",
     "output_type": "stream",
     "text": [
      "4.4    834\n",
      "4.5    821\n",
      "4.3    818\n",
      "4.2    739\n",
      "4.6    646\n",
      "4.1    593\n",
      "4.0    480\n",
      "4.7    421\n",
      "3.9    333\n",
      "3.8    272\n",
      "5.0    269\n",
      "4.8    216\n",
      "3.7    198\n",
      "3.6    158\n",
      "3.5    153\n",
      "3.4    115\n",
      "3.3     98\n",
      "4.9     86\n",
      "3.0     74\n",
      "3.1     62\n",
      "3.2     59\n",
      "2.9     43\n",
      "2.8     42\n",
      "2.6     24\n",
      "2.7     23\n",
      "2.3     20\n",
      "2.5     19\n",
      "2.4     19\n",
      "1.0     16\n",
      "2.2     14\n",
      "1.9     12\n",
      "2.0     11\n",
      "1.7      8\n",
      "1.8      8\n",
      "2.1      8\n",
      "1.6      4\n",
      "1.4      3\n",
      "1.5      3\n",
      "1.2      1\n",
      "Name: Rating, dtype: int64\n"
     ]
    },
    {
     "data": {
      "text/plain": [
       "[Text(0.5, 1.0, 'Count of Ratings')]"
      ]
     },
     "execution_count": 10,
     "metadata": {},
     "output_type": "execute_result"
    },
    {
     "data": {
      "image/png": "[encoded data removed]",
      "text/plain": [
       "<Figure size 648x504 with 1 Axes>"
      ]
     },
     "metadata": {},
     "output_type": "display_data"
    }
   ],
   "source": [
    "# Show the distribution of all ratings\n",
    "print(df.Rating.value_counts())\n",
    "plot = sns.histplot(data=df, x='Rating', kde=True)\n",
    "plot.set(title='Count of Ratings')"
   ]
  },
  {
   "cell_type": "code",
   "execution_count": 11,
   "id": "6b28bf1b",
   "metadata": {},
   "outputs": [
    {
     "name": "stdout",
     "output_type": "stream",
     "text": [
      "Rating\n",
      "1.0           28\n",
      "1.2           44\n",
      "1.4           98\n",
      "1.5           61\n",
      "1.6          691\n",
      "1.7         2360\n",
      "1.8         3418\n",
      "1.9         3531\n",
      "2.0         2974\n",
      "2.1         3073\n",
      "2.2         1979\n",
      "2.3         2361\n",
      "2.4        14829\n",
      "2.5        19399\n",
      "2.6         3437\n",
      "2.7        19329\n",
      "2.8       124890\n",
      "2.9        57897\n",
      "3.0        97939\n",
      "3.1       292316\n",
      "3.2       224431\n",
      "3.3      1159575\n",
      "3.4       702014\n",
      "3.5      1486271\n",
      "3.6      1387583\n",
      "3.7      6225686\n",
      "3.8      4321872\n",
      "3.9      9579046\n",
      "4.0     20137632\n",
      "4.1     49897283\n",
      "4.2     90921505\n",
      "4.3    266766787\n",
      "4.4    506938846\n",
      "4.5    752256652\n",
      "4.6    505959863\n",
      "4.7     39780356\n",
      "4.8     17710786\n",
      "4.9      1390241\n",
      "5.0         2253\n",
      "Name: Reviews, dtype: int32\n"
     ]
    },
    {
     "data": {
      "image/png": "[encoded data removed]",
      "text/plain": [
       "<Figure size 648x504 with 1 Axes>"
      ]
     },
     "metadata": {},
     "output_type": "display_data"
    }
   ],
   "source": [
    "# Show the amount of reviews that apps with a specific rating have\n",
    "print(df.groupby('Rating')['Reviews'].sum())\n",
    "plot = sns.barplot(data=df, x='Rating', y='Reviews')\n",
    "plot.set(title='Count of Reviews vs Rating')\n",
    "plt.xticks(rotation=90)\n",
    "plt.yscale('log')"
   ]
  },
  {
   "cell_type": "code",
   "execution_count": 12,
   "id": "693802c0",
   "metadata": {},
   "outputs": [
    {
     "name": "stdout",
     "output_type": "stream",
     "text": [
      "Primary_Genre\n",
      "Casual           342193523\n",
      "Strategy         324914873\n",
      "Arcade           299486408\n",
      "Action           255517292\n",
      "Sports           174679505\n",
      "Communication    117104203\n",
      "Tools            105276108\n",
      "Racing            84463211\n",
      "Photography       76943394\n",
      "Adventure         65637922\n",
      "Name: Reviews, dtype: int32\n"
     ]
    },
    {
     "data": {
      "text/plain": [
       "<AxesSubplot:xlabel='Primary_Genre'>"
      ]
     },
     "execution_count": 12,
     "metadata": {},
     "output_type": "execute_result"
    },
    {
     "data": {
      "image/png": "[encoded data removed]",
      "text/plain": [
       "<Figure size 648x504 with 1 Axes>"
      ]
     },
     "metadata": {},
     "output_type": "display_data"
    }
   ],
   "source": [
    "# Examine how many reviews each genre has\n",
    "print(df.groupby('Primary_Genre')['Reviews'].sum().sort_values(ascending=False)[:10])\n",
    "df.groupby('Primary_Genre')['Reviews'].sum().sort_values(ascending=False)[:10].plot.bar()"
   ]
  },
  {
   "cell_type": "code",
   "execution_count": 13,
   "id": "80d63c77",
   "metadata": {
    "pycharm": {
     "name": "#%%\n"
    }
   },
   "outputs": [
    {
     "name": "stdout",
     "output_type": "stream",
     "text": [
      "Tools              633\n",
      "Education          495\n",
      "Entertainment      478\n",
      "Action             338\n",
      "Medical            324\n",
      "Lifestyle          280\n",
      "Personalization    278\n",
      "Finance            266\n",
      "Sports             263\n",
      "Business           246\n",
      "Name: Primary_Genre, dtype: int64\n"
     ]
    },
    {
     "data": {
      "text/plain": [
       "(array([0, 1, 2, 3, 4, 5, 6, 7, 8, 9]),\n",
       " [Text(0, 0, 'Tools'),\n",
       "  Text(1, 0, 'Education'),\n",
       "  Text(2, 0, 'Entertainment'),\n",
       "  Text(3, 0, 'Action'),\n",
       "  Text(4, 0, 'Medical'),\n",
       "  Text(5, 0, 'Lifestyle'),\n",
       "  Text(6, 0, 'Personalization'),\n",
       "  Text(7, 0, 'Finance'),\n",
       "  Text(8, 0, 'Sports'),\n",
       "  Text(9, 0, 'Business')])"
      ]
     },
     "execution_count": 13,
     "metadata": {},
     "output_type": "execute_result"
    },
    {
     "data": {
      "image/png": "[encoded data removed]",
      "text/plain": [
       "<Figure size 648x504 with 1 Axes>"
      ]
     },
     "metadata": {},
     "output_type": "display_data"
    }
   ],
   "source": [
    "# Examine the amount of ratings each genre has\n",
    "\n",
    "query = df['Primary_Genre'].value_counts()[:10]\n",
    "print(query)\n",
    "\n",
    "plot = sns.barplot(x=query.index, y=query.values)\n",
    "plot.set(title='Count vs Rating', ylabel='Count')\n",
    "plt.xticks(rotation=90)"
   ]
  },
  {
   "cell_type": "code",
   "execution_count": 14,
   "id": "3950a631",
   "metadata": {},
   "outputs": [
    {
     "name": "stdout",
     "output_type": "stream",
     "text": [
      "Tools                      633\n",
      "Education                  495\n",
      "Entertainment              478\n",
      "Action                     338\n",
      "Medical                    324\n",
      "Lifestyle                  280\n",
      "Personalization            278\n",
      "Finance                    266\n",
      "Sports                     263\n",
      "Business                   246\n",
      "Photography                236\n",
      "Productivity               235\n",
      "Casual                     230\n",
      "Health & Fitness           225\n",
      "Communication              211\n",
      "Arcade                     200\n",
      "Simulation                 199\n",
      "Shopping                   179\n",
      "Social                     177\n",
      "Dating                     173\n",
      "News & Magazines           169\n",
      "Travel & Local             160\n",
      "Books & Reference          146\n",
      "Puzzle                     133\n",
      "Video Players & Editors    118\n",
      "Role Playing               114\n",
      "Strategy                   100\n",
      "Racing                      98\n",
      "Educational                 97\n",
      "Maps & Navigation           95\n",
      "Food & Drink                84\n",
      "Adventure                   84\n",
      "Auto & Vehicles             63\n",
      "Libraries & Demo            61\n",
      "Art & Design                60\n",
      "Board                       56\n",
      "House & Home                56\n",
      "Weather                     51\n",
      "Comics                      49\n",
      "Parenting                   44\n",
      "Card                        42\n",
      "Events                      38\n",
      "Beauty                      37\n",
      "Casino                      32\n",
      "Trivia                      27\n",
      "Word                        24\n",
      "Music                       18\n",
      "Music & Audio                1\n",
      "Name: Primary_Genre, dtype: int64\n"
     ]
    }
   ],
   "source": [
    "# Shows the count of total apps with the given genre and plot\n",
    "print(df['Primary_Genre'].value_counts())"
   ]
  },
  {
   "cell_type": "code",
   "execution_count": 15,
   "id": "98581f09",
   "metadata": {},
   "outputs": [
    {
     "name": "stdout",
     "output_type": "stream",
     "text": [
      "Free    7146\n",
      "Paid     577\n",
      "Name: Type, dtype: int64\n"
     ]
    },
    {
     "data": {
      "image/png": "[encoded data removed]",
      "text/plain": [
       "<Figure size 648x504 with 1 Axes>"
      ]
     },
     "metadata": {},
     "output_type": "display_data"
    }
   ],
   "source": [
    "# Shows the count of total paid vs free apps and plot\n",
    "\n",
    "print(df['Type'].value_counts())\n",
    "\n",
    "df['Type'].value_counts().plot.bar()\n",
    "plt.title('Total Count of Paid vs Free Apps');"
   ]
  },
  {
   "cell_type": "code",
   "execution_count": 16,
   "id": "f94e6389",
   "metadata": {},
   "outputs": [
    {
     "name": "stdout",
     "output_type": "stream",
     "text": [
      "Type\n",
      "Paid       4062166\n",
      "Free    2273437170\n",
      "Name: Reviews, dtype: object\n"
     ]
    },
    {
     "data": {
      "image/png": "[encoded data removed]",
      "text/plain": [
       "<Figure size 648x504 with 1 Axes>"
      ]
     },
     "metadata": {},
     "output_type": "display_data"
    }
   ],
   "source": [
    "print(df.groupby('Type')['Reviews'].sum().sort_values().apply(lambda x: '%.f' % x))\n",
    "df.groupby('Type')['Reviews'].sum().sort_values().plot.bar()\n",
    "plt.yscale('log')"
   ]
  },
  {
   "cell_type": "markdown",
   "id": "416f353f",
   "metadata": {},
   "source": [
    "<h3><u> Machine Learning and Predictions </u></h3>\n",
    "<p> To Do:<br>\n",
    "<i>Fix crowded x-axis on some graphs <br>\n",
    "Debug Errors <br>\n",
    "Examine various modeling algorithms <br>\n",
    "Examine test and training rmse<br>\n",
    "Graph test and training rmse<br>\n",
    "Examine accuracy of each algorithm used</i></p>"
   ]
  },
  {
   "cell_type": "code",
   "execution_count": 17,
   "id": "fbb8ab31",
   "metadata": {},
   "outputs": [],
   "source": [
    "# Function to calculate rmse\n",
    "def rmse(predicted, actual):\n",
    "    return np.sqrt(((predicted - actual)**2).mean())"
   ]
  },
  {
   "cell_type": "code",
   "execution_count": 18,
   "id": "4f28ac2c",
   "metadata": {},
   "outputs": [],
   "source": [
    "# select the predictor variables and target variables to be used with regression\n",
    "predictors = ['Rating']\n",
    "#dropping categortical features, such as ocean_proximity, including spatial ones such as long/lat.\n",
    "target = 'Installs'\n",
    "X = df[predictors].values\n",
    "y = df[target].values\n",
    "# Split the data into training and test sets, and scale\n",
    "scaler = StandardScaler()\n",
    "\n",
    "# unscaled version (note that scaling is only used on predictor variables)\n",
    "X_train_raw, X_test_raw, y_train, y_test = train_test_split(X, y, test_size=0.30, random_state=42)\n",
    "\n",
    "# scaled version\n",
    "X_train = scaler.fit_transform(X_train_raw)\n",
    "X_test = scaler.transform(X_test_raw)"
   ]
  },
  {
   "cell_type": "code",
   "execution_count": 19,
   "id": "b37f8b94",
   "metadata": {},
   "outputs": [
    {
     "ename": "TypeError",
     "evalue": "unsupported operand type(s) for /: 'str' and 'int'",
     "output_type": "error",
     "traceback": [
      "\u001b[1;31m---------------------------------------------------------------------------\u001b[0m",
      "\u001b[1;31mTypeError\u001b[0m                                 Traceback (most recent call last)",
      "\u001b[1;32mC:\\Users\\Public\\Documents\\Wondershare\\CreatorTemp/ipykernel_25388/3820993012.py\u001b[0m in \u001b[0;36m<module>\u001b[1;34m\u001b[0m\n\u001b[0;32m      2\u001b[0m \u001b[0mregr\u001b[0m \u001b[1;33m=\u001b[0m \u001b[0mKNeighborsRegressor\u001b[0m\u001b[1;33m(\u001b[0m\u001b[1;33m)\u001b[0m\u001b[1;33m\u001b[0m\u001b[1;33m\u001b[0m\u001b[0m\n\u001b[0;32m      3\u001b[0m \u001b[0mregr\u001b[0m\u001b[1;33m.\u001b[0m\u001b[0mfit\u001b[0m\u001b[1;33m(\u001b[0m\u001b[0mX_train\u001b[0m\u001b[1;33m,\u001b[0m \u001b[0my_train\u001b[0m\u001b[1;33m)\u001b[0m\u001b[1;33m\u001b[0m\u001b[1;33m\u001b[0m\u001b[0m\n\u001b[1;32m----> 4\u001b[1;33m \u001b[0mpredictions\u001b[0m \u001b[1;33m=\u001b[0m \u001b[0mregr\u001b[0m\u001b[1;33m.\u001b[0m\u001b[0mpredict\u001b[0m\u001b[1;33m(\u001b[0m\u001b[0mX_test\u001b[0m\u001b[1;33m)\u001b[0m\u001b[1;33m\u001b[0m\u001b[1;33m\u001b[0m\u001b[0m\n\u001b[0m\u001b[0;32m      5\u001b[0m \u001b[0mtest_rmse\u001b[0m \u001b[1;33m=\u001b[0m \u001b[0mrmse\u001b[0m\u001b[1;33m(\u001b[0m\u001b[0mpredictions\u001b[0m\u001b[1;33m,\u001b[0m \u001b[0my_test\u001b[0m\u001b[1;33m)\u001b[0m\u001b[1;33m\u001b[0m\u001b[1;33m\u001b[0m\u001b[0m\n\u001b[0;32m      6\u001b[0m \u001b[0mprint\u001b[0m\u001b[1;33m(\u001b[0m\u001b[1;34m'test RMSE, default hyperparameters: {0:.1f}'\u001b[0m\u001b[1;33m.\u001b[0m\u001b[0mformat\u001b[0m\u001b[1;33m(\u001b[0m\u001b[0mtest_rmse\u001b[0m\u001b[1;33m)\u001b[0m\u001b[1;33m)\u001b[0m\u001b[1;33m\u001b[0m\u001b[1;33m\u001b[0m\u001b[0m\n",
      "\u001b[1;32mD:\\Anaconda\\lib\\site-packages\\sklearn\\neighbors\\_regression.py\u001b[0m in \u001b[0;36mpredict\u001b[1;34m(self, X)\u001b[0m\n\u001b[0;32m    215\u001b[0m \u001b[1;33m\u001b[0m\u001b[0m\n\u001b[0;32m    216\u001b[0m         \u001b[1;32mif\u001b[0m \u001b[0mweights\u001b[0m \u001b[1;32mis\u001b[0m \u001b[1;32mNone\u001b[0m\u001b[1;33m:\u001b[0m\u001b[1;33m\u001b[0m\u001b[1;33m\u001b[0m\u001b[0m\n\u001b[1;32m--> 217\u001b[1;33m             \u001b[0my_pred\u001b[0m \u001b[1;33m=\u001b[0m \u001b[0mnp\u001b[0m\u001b[1;33m.\u001b[0m\u001b[0mmean\u001b[0m\u001b[1;33m(\u001b[0m\u001b[0m_y\u001b[0m\u001b[1;33m[\u001b[0m\u001b[0mneigh_ind\u001b[0m\u001b[1;33m]\u001b[0m\u001b[1;33m,\u001b[0m \u001b[0maxis\u001b[0m\u001b[1;33m=\u001b[0m\u001b[1;36m1\u001b[0m\u001b[1;33m)\u001b[0m\u001b[1;33m\u001b[0m\u001b[1;33m\u001b[0m\u001b[0m\n\u001b[0m\u001b[0;32m    218\u001b[0m         \u001b[1;32melse\u001b[0m\u001b[1;33m:\u001b[0m\u001b[1;33m\u001b[0m\u001b[1;33m\u001b[0m\u001b[0m\n\u001b[0;32m    219\u001b[0m             \u001b[0my_pred\u001b[0m \u001b[1;33m=\u001b[0m \u001b[0mnp\u001b[0m\u001b[1;33m.\u001b[0m\u001b[0mempty\u001b[0m\u001b[1;33m(\u001b[0m\u001b[1;33m(\u001b[0m\u001b[0mX\u001b[0m\u001b[1;33m.\u001b[0m\u001b[0mshape\u001b[0m\u001b[1;33m[\u001b[0m\u001b[1;36m0\u001b[0m\u001b[1;33m]\u001b[0m\u001b[1;33m,\u001b[0m \u001b[0m_y\u001b[0m\u001b[1;33m.\u001b[0m\u001b[0mshape\u001b[0m\u001b[1;33m[\u001b[0m\u001b[1;36m1\u001b[0m\u001b[1;33m]\u001b[0m\u001b[1;33m)\u001b[0m\u001b[1;33m,\u001b[0m \u001b[0mdtype\u001b[0m\u001b[1;33m=\u001b[0m\u001b[0mnp\u001b[0m\u001b[1;33m.\u001b[0m\u001b[0mfloat64\u001b[0m\u001b[1;33m)\u001b[0m\u001b[1;33m\u001b[0m\u001b[1;33m\u001b[0m\u001b[0m\n",
      "\u001b[1;32m<__array_function__ internals>\u001b[0m in \u001b[0;36mmean\u001b[1;34m(*args, **kwargs)\u001b[0m\n",
      "\u001b[1;32mD:\\Anaconda\\lib\\site-packages\\numpy\\core\\fromnumeric.py\u001b[0m in \u001b[0;36mmean\u001b[1;34m(a, axis, dtype, out, keepdims, where)\u001b[0m\n\u001b[0;32m   3417\u001b[0m             \u001b[1;32mreturn\u001b[0m \u001b[0mmean\u001b[0m\u001b[1;33m(\u001b[0m\u001b[0maxis\u001b[0m\u001b[1;33m=\u001b[0m\u001b[0maxis\u001b[0m\u001b[1;33m,\u001b[0m \u001b[0mdtype\u001b[0m\u001b[1;33m=\u001b[0m\u001b[0mdtype\u001b[0m\u001b[1;33m,\u001b[0m \u001b[0mout\u001b[0m\u001b[1;33m=\u001b[0m\u001b[0mout\u001b[0m\u001b[1;33m,\u001b[0m \u001b[1;33m**\u001b[0m\u001b[0mkwargs\u001b[0m\u001b[1;33m)\u001b[0m\u001b[1;33m\u001b[0m\u001b[1;33m\u001b[0m\u001b[0m\n\u001b[0;32m   3418\u001b[0m \u001b[1;33m\u001b[0m\u001b[0m\n\u001b[1;32m-> 3419\u001b[1;33m     return _methods._mean(a, axis=axis, dtype=dtype,\n\u001b[0m\u001b[0;32m   3420\u001b[0m                           out=out, **kwargs)\n\u001b[0;32m   3421\u001b[0m \u001b[1;33m\u001b[0m\u001b[0m\n",
      "\u001b[1;32mD:\\Anaconda\\lib\\site-packages\\numpy\\core\\_methods.py\u001b[0m in \u001b[0;36m_mean\u001b[1;34m(a, axis, dtype, out, keepdims, where)\u001b[0m\n\u001b[0;32m    178\u001b[0m     \u001b[0mret\u001b[0m \u001b[1;33m=\u001b[0m \u001b[0mumr_sum\u001b[0m\u001b[1;33m(\u001b[0m\u001b[0marr\u001b[0m\u001b[1;33m,\u001b[0m \u001b[0maxis\u001b[0m\u001b[1;33m,\u001b[0m \u001b[0mdtype\u001b[0m\u001b[1;33m,\u001b[0m \u001b[0mout\u001b[0m\u001b[1;33m,\u001b[0m \u001b[0mkeepdims\u001b[0m\u001b[1;33m,\u001b[0m \u001b[0mwhere\u001b[0m\u001b[1;33m=\u001b[0m\u001b[0mwhere\u001b[0m\u001b[1;33m)\u001b[0m\u001b[1;33m\u001b[0m\u001b[1;33m\u001b[0m\u001b[0m\n\u001b[0;32m    179\u001b[0m     \u001b[1;32mif\u001b[0m \u001b[0misinstance\u001b[0m\u001b[1;33m(\u001b[0m\u001b[0mret\u001b[0m\u001b[1;33m,\u001b[0m \u001b[0mmu\u001b[0m\u001b[1;33m.\u001b[0m\u001b[0mndarray\u001b[0m\u001b[1;33m)\u001b[0m\u001b[1;33m:\u001b[0m\u001b[1;33m\u001b[0m\u001b[1;33m\u001b[0m\u001b[0m\n\u001b[1;32m--> 180\u001b[1;33m         ret = um.true_divide(\n\u001b[0m\u001b[0;32m    181\u001b[0m                 ret, rcount, out=ret, casting='unsafe', subok=False)\n\u001b[0;32m    182\u001b[0m         \u001b[1;32mif\u001b[0m \u001b[0mis_float16_result\u001b[0m \u001b[1;32mand\u001b[0m \u001b[0mout\u001b[0m \u001b[1;32mis\u001b[0m \u001b[1;32mNone\u001b[0m\u001b[1;33m:\u001b[0m\u001b[1;33m\u001b[0m\u001b[1;33m\u001b[0m\u001b[0m\n",
      "\u001b[1;31mTypeError\u001b[0m: unsupported operand type(s) for /: 'str' and 'int'"
     ]
    }
   ],
   "source": [
    "# Needs to be debugged\n",
    "regr = KNeighborsRegressor()\n",
    "regr.fit(X_train, y_train)\n",
    "predictions = regr.predict(X_test)\n",
    "test_rmse = rmse(predictions, y_test)\n",
    "print('test RMSE, default hyperparameters: {0:.1f}'.format(test_rmse))"
   ]
  }
 ],
 "metadata": {
  "kernelspec": {
   "display_name": "Python 3 (ipykernel)",
   "language": "python",
   "name": "python3"
  },
  "language_info": {
   "codemirror_mode": {
    "name": "ipython",
    "version": 3
   },
   "file_extension": ".py",
   "mimetype": "text/x-python",
   "name": "python",
   "nbconvert_exporter": "python",
   "pygments_lexer": "ipython3",
   "version": "3.9.7"
  }
 },
 "nbformat": 4,
 "nbformat_minor": 5
}
